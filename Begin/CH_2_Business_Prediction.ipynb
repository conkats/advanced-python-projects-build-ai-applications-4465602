{
 "cells": [
  {
   "cell_type": "markdown",
   "id": "363bf99c",
   "metadata": {
    "id": "363bf99c"
   },
   "source": [
    "## Installing the required libraries"
   ]
  },
  {
   "cell_type": "code",
   "execution_count": 9,
   "id": "08081f18",
   "metadata": {
    "executionInfo": {
     "elapsed": 10,
     "status": "ok",
     "timestamp": 1709836774197,
     "user": {
      "displayName": "Priya Mohan",
      "userId": "10194897099303360694"
     },
     "user_tz": 300
    },
    "id": "08081f18"
   },
   "outputs": [],
   "source": [
    "#import all of the required libraries and classes right here\n",
    "# Pandas is for data manipulation, scikit-learn is \n",
    "# for machine learning tools, and matplotlib is for data visualization.\n",
    "\n",
    "import pandas as pd\n",
    "import re\n",
    "from sklearn.preprocessing import StandardScaler\n",
    "import matplotlib.pyplot as plt\n",
    "import numpy as np\n",
    "import warnings\n",
    "from sklearn.metrics import mean_squared_error as mse\n",
    "from sklearn.model_selection import train_test_split, GridSearchCV\n",
    "from sklearn.ensemble import RandomForestRegressor, GradientBoostingRegressor\n",
    "from sklearn.linear_model import LinearRegression\n",
    "from sklearn.metrics import mean_absolute_error, mean_squared_error, r2_score\n",
    "\n",
    "warnings.simplefilter('ignore')#ignore warnings during execution"
   ]
  },
  {
   "cell_type": "markdown",
   "id": "85ac620e",
   "metadata": {
    "id": "85ac620e"
   },
   "source": [
    "## Data Ingestion"
   ]
  },
  {
   "cell_type": "code",
   "execution_count": 8,
   "id": "0961b773",
   "metadata": {
    "executionInfo": {
     "elapsed": 831,
     "status": "ok",
     "timestamp": 1709836775020,
     "user": {
      "displayName": "Priya Mohan",
      "userId": "10194897099303360694"
     },
     "user_tz": 300
    },
    "id": "0961b773"
   },
   "outputs": [],
   "source": [
    "df=pd.read_excel('Coffee_shop_data.xlsx')\n",
    "population=pd.read_csv('population.csv',skiprows=[0])"
   ]
  },
  {
   "cell_type": "code",
   "execution_count": 10,
   "id": "60162560",
   "metadata": {
    "colab": {
     "base_uri": "https://localhost:8080/",
     "height": 365
    },
    "executionInfo": {
     "elapsed": 34,
     "status": "ok",
     "timestamp": 1709836775020,
     "user": {
      "displayName": "Priya Mohan",
      "userId": "10194897099303360694"
     },
     "user_tz": 300
    },
    "id": "60162560",
    "outputId": "017aa4c8-79c7-4744-ce2b-f2e8e4e6e95e"
   },
   "outputs": [
    {
     "data": {
      "text/html": [
       "<div>\n",
       "<style scoped>\n",
       "    .dataframe tbody tr th:only-of-type {\n",
       "        vertical-align: middle;\n",
       "    }\n",
       "\n",
       "    .dataframe tbody tr th {\n",
       "        vertical-align: top;\n",
       "    }\n",
       "\n",
       "    .dataframe thead th {\n",
       "        text-align: right;\n",
       "    }\n",
       "</style>\n",
       "<table border=\"1\" class=\"dataframe\">\n",
       "  <thead>\n",
       "    <tr style=\"text-align: right;\">\n",
       "      <th></th>\n",
       "      <th>Geography</th>\n",
       "      <th>Label for GEO_ID</th>\n",
       "      <th>Race/Ethnic Group</th>\n",
       "      <th>Population Groups</th>\n",
       "      <th>Total</th>\n",
       "      <th>Errata of Total</th>\n",
       "      <th>Total!!1-person household</th>\n",
       "      <th>Total!!2-person household</th>\n",
       "      <th>Total!!3-person household</th>\n",
       "      <th>Total!!4-person household</th>\n",
       "      <th>Total!!5-person household</th>\n",
       "      <th>Total!!6-person household</th>\n",
       "      <th>Total!!7-or-more-person household</th>\n",
       "    </tr>\n",
       "  </thead>\n",
       "  <tbody>\n",
       "    <tr>\n",
       "      <th>0</th>\n",
       "      <td>8600000US89010</td>\n",
       "      <td>ZCTA5 89010</td>\n",
       "      <td>1</td>\n",
       "      <td>Total population</td>\n",
       "      <td>172</td>\n",
       "      <td>NaN</td>\n",
       "      <td>51</td>\n",
       "      <td>69</td>\n",
       "      <td>19</td>\n",
       "      <td>12</td>\n",
       "      <td>12</td>\n",
       "      <td>4</td>\n",
       "      <td>5</td>\n",
       "    </tr>\n",
       "    <tr>\n",
       "      <th>1</th>\n",
       "      <td>8600000US89019</td>\n",
       "      <td>ZCTA5 89019</td>\n",
       "      <td>1</td>\n",
       "      <td>Total population</td>\n",
       "      <td>1164</td>\n",
       "      <td>NaN</td>\n",
       "      <td>412</td>\n",
       "      <td>421</td>\n",
       "      <td>134</td>\n",
       "      <td>83</td>\n",
       "      <td>57</td>\n",
       "      <td>32</td>\n",
       "      <td>25</td>\n",
       "    </tr>\n",
       "    <tr>\n",
       "      <th>2</th>\n",
       "      <td>8600000US89060</td>\n",
       "      <td>ZCTA5 89060</td>\n",
       "      <td>1</td>\n",
       "      <td>Total population</td>\n",
       "      <td>4144</td>\n",
       "      <td>NaN</td>\n",
       "      <td>1106</td>\n",
       "      <td>1714</td>\n",
       "      <td>550</td>\n",
       "      <td>361</td>\n",
       "      <td>222</td>\n",
       "      <td>95</td>\n",
       "      <td>96</td>\n",
       "    </tr>\n",
       "    <tr>\n",
       "      <th>3</th>\n",
       "      <td>8600000US89061</td>\n",
       "      <td>ZCTA5 89061</td>\n",
       "      <td>1</td>\n",
       "      <td>Total population</td>\n",
       "      <td>2109</td>\n",
       "      <td>NaN</td>\n",
       "      <td>469</td>\n",
       "      <td>936</td>\n",
       "      <td>283</td>\n",
       "      <td>206</td>\n",
       "      <td>112</td>\n",
       "      <td>62</td>\n",
       "      <td>41</td>\n",
       "    </tr>\n",
       "    <tr>\n",
       "      <th>4</th>\n",
       "      <td>8600000US89439</td>\n",
       "      <td>ZCTA5 89439</td>\n",
       "      <td>1</td>\n",
       "      <td>Total population</td>\n",
       "      <td>671</td>\n",
       "      <td>NaN</td>\n",
       "      <td>193</td>\n",
       "      <td>314</td>\n",
       "      <td>88</td>\n",
       "      <td>55</td>\n",
       "      <td>17</td>\n",
       "      <td>2</td>\n",
       "      <td>2</td>\n",
       "    </tr>\n",
       "  </tbody>\n",
       "</table>\n",
       "</div>"
      ],
      "text/plain": [
       "        Geography Label for GEO_ID  Race/Ethnic Group Population Groups  \\\n",
       "0  8600000US89010      ZCTA5 89010                  1  Total population   \n",
       "1  8600000US89019      ZCTA5 89019                  1  Total population   \n",
       "2  8600000US89060      ZCTA5 89060                  1  Total population   \n",
       "3  8600000US89061      ZCTA5 89061                  1  Total population   \n",
       "4  8600000US89439      ZCTA5 89439                  1  Total population   \n",
       "\n",
       "   Total  Errata of Total  Total!!1-person household  \\\n",
       "0    172              NaN                         51   \n",
       "1   1164              NaN                        412   \n",
       "2   4144              NaN                       1106   \n",
       "3   2109              NaN                        469   \n",
       "4    671              NaN                        193   \n",
       "\n",
       "   Total!!2-person household  Total!!3-person household  \\\n",
       "0                         69                         19   \n",
       "1                        421                        134   \n",
       "2                       1714                        550   \n",
       "3                        936                        283   \n",
       "4                        314                         88   \n",
       "\n",
       "   Total!!4-person household  Total!!5-person household  \\\n",
       "0                         12                         12   \n",
       "1                         83                         57   \n",
       "2                        361                        222   \n",
       "3                        206                        112   \n",
       "4                         55                         17   \n",
       "\n",
       "   Total!!6-person household  Total!!7-or-more-person household  \n",
       "0                          4                                  5  \n",
       "1                         32                                 25  \n",
       "2                         95                                 96  \n",
       "3                         62                                 41  \n",
       "4                          2                                  2  "
      ]
     },
     "execution_count": 10,
     "metadata": {},
     "output_type": "execute_result"
    }
   ],
   "source": [
    "population.head()"
   ]
  },
  {
   "cell_type": "code",
   "execution_count": 11,
   "id": "b4048b6b",
   "metadata": {
    "colab": {
     "base_uri": "https://localhost:8080/",
     "height": 310
    },
    "executionInfo": {
     "elapsed": 31,
     "status": "ok",
     "timestamp": 1709836775020,
     "user": {
      "displayName": "Priya Mohan",
      "userId": "10194897099303360694"
     },
     "user_tz": 300
    },
    "id": "b4048b6b",
    "outputId": "ab86eb91-7562-4e54-873f-01f9f498e9f8"
   },
   "outputs": [
    {
     "data": {
      "text/html": [
       "<div>\n",
       "<style scoped>\n",
       "    .dataframe tbody tr th:only-of-type {\n",
       "        vertical-align: middle;\n",
       "    }\n",
       "\n",
       "    .dataframe tbody tr th {\n",
       "        vertical-align: top;\n",
       "    }\n",
       "\n",
       "    .dataframe thead th {\n",
       "        text-align: right;\n",
       "    }\n",
       "</style>\n",
       "<table border=\"1\" class=\"dataframe\">\n",
       "  <thead>\n",
       "    <tr style=\"text-align: right;\">\n",
       "      <th></th>\n",
       "      <th>ID no.</th>\n",
       "      <th>Business Name</th>\n",
       "      <th>Street address</th>\n",
       "      <th>City</th>\n",
       "      <th>State</th>\n",
       "      <th>Zip Code</th>\n",
       "      <th>Phone</th>\n",
       "      <th>Rating</th>\n",
       "      <th>Gender majority</th>\n",
       "      <th>Median Salary</th>\n",
       "      <th>Latte Price</th>\n",
       "    </tr>\n",
       "  </thead>\n",
       "  <tbody>\n",
       "    <tr>\n",
       "      <th>0</th>\n",
       "      <td>1</td>\n",
       "      <td>Brew Haven</td>\n",
       "      <td>8 Old Shore Place</td>\n",
       "      <td>Oakland</td>\n",
       "      <td>California</td>\n",
       "      <td>94616</td>\n",
       "      <td>415-810-4769</td>\n",
       "      <td>4.5</td>\n",
       "      <td>Male</td>\n",
       "      <td>72463</td>\n",
       "      <td>3.31000</td>\n",
       "    </tr>\n",
       "    <tr>\n",
       "      <th>1</th>\n",
       "      <td>2</td>\n",
       "      <td>Bean Bliss</td>\n",
       "      <td>6650 Clarendon Crossing</td>\n",
       "      <td>Stockton</td>\n",
       "      <td>California</td>\n",
       "      <td>95210</td>\n",
       "      <td>209-701-1665</td>\n",
       "      <td>5.0</td>\n",
       "      <td>Female</td>\n",
       "      <td>87117</td>\n",
       "      <td>5.35000</td>\n",
       "    </tr>\n",
       "    <tr>\n",
       "      <th>2</th>\n",
       "      <td>3</td>\n",
       "      <td>Caffeine Cove</td>\n",
       "      <td>7281 Buell Road</td>\n",
       "      <td>Fresno</td>\n",
       "      <td>California</td>\n",
       "      <td>93773</td>\n",
       "      <td>559-137-3554</td>\n",
       "      <td>4.7</td>\n",
       "      <td>Male</td>\n",
       "      <td>86394</td>\n",
       "      <td>4.15000</td>\n",
       "    </tr>\n",
       "    <tr>\n",
       "      <th>3</th>\n",
       "      <td>4</td>\n",
       "      <td>Mug Magic</td>\n",
       "      <td>670 Jackson Avenue</td>\n",
       "      <td>Torrance</td>\n",
       "      <td>California</td>\n",
       "      <td>90510</td>\n",
       "      <td>818-789-5573</td>\n",
       "      <td>4.3</td>\n",
       "      <td>Male</td>\n",
       "      <td>88343</td>\n",
       "      <td>5.34000</td>\n",
       "    </tr>\n",
       "    <tr>\n",
       "      <th>4</th>\n",
       "      <td>5</td>\n",
       "      <td>Daily Grind</td>\n",
       "      <td>37 Ludington Terrace</td>\n",
       "      <td>San Diego</td>\n",
       "      <td>California</td>\n",
       "      <td>92196</td>\n",
       "      <td>619-354-2389</td>\n",
       "      <td>1.6</td>\n",
       "      <td>Male</td>\n",
       "      <td>77795</td>\n",
       "      <td>4.51175</td>\n",
       "    </tr>\n",
       "  </tbody>\n",
       "</table>\n",
       "</div>"
      ],
      "text/plain": [
       "   ID no.   Business Name           Street address       City       State  \\\n",
       "0       1      Brew Haven        8 Old Shore Place    Oakland  California   \n",
       "1       2      Bean Bliss  6650 Clarendon Crossing   Stockton  California   \n",
       "2       3   Caffeine Cove          7281 Buell Road     Fresno  California   \n",
       "3       4       Mug Magic       670 Jackson Avenue   Torrance  California   \n",
       "4       5     Daily Grind     37 Ludington Terrace  San Diego  California   \n",
       "\n",
       "   Zip Code         Phone  Rating Gender majority  Median Salary  Latte Price  \n",
       "0     94616  415-810-4769     4.5            Male          72463      3.31000  \n",
       "1     95210  209-701-1665     5.0          Female          87117      5.35000  \n",
       "2     93773  559-137-3554     4.7            Male          86394      4.15000  \n",
       "3     90510  818-789-5573     4.3            Male          88343      5.34000  \n",
       "4     92196  619-354-2389     1.6            Male          77795      4.51175  "
      ]
     },
     "execution_count": 11,
     "metadata": {},
     "output_type": "execute_result"
    }
   ],
   "source": [
    "df.head()#checking first five rows"
   ]
  },
  {
   "cell_type": "code",
   "execution_count": 12,
   "id": "159e8131",
   "metadata": {
    "colab": {
     "base_uri": "https://localhost:8080/"
    },
    "executionInfo": {
     "elapsed": 30,
     "status": "ok",
     "timestamp": 1709836775021,
     "user": {
      "displayName": "Priya Mohan",
      "userId": "10194897099303360694"
     },
     "user_tz": 300
    },
    "id": "159e8131",
    "outputId": "5b973ca1-375d-4a4b-964d-55b5c821d98d"
   },
   "outputs": [
    {
     "name": "stdout",
     "output_type": "stream",
     "text": [
      "<class 'pandas.core.frame.DataFrame'>\n",
      "RangeIndex: 1000 entries, 0 to 999\n",
      "Data columns (total 11 columns):\n",
      " #   Column           Non-Null Count  Dtype  \n",
      "---  ------           --------------  -----  \n",
      " 0   ID no.           1000 non-null   int64  \n",
      " 1   Business Name    1000 non-null   object \n",
      " 2   Street address   1000 non-null   object \n",
      " 3   City             1000 non-null   object \n",
      " 4   State            1000 non-null   object \n",
      " 5   Zip Code         1000 non-null   int64  \n",
      " 6   Phone            1000 non-null   object \n",
      " 7   Rating           1000 non-null   float64\n",
      " 8   Gender majority  1000 non-null   object \n",
      " 9   Median Salary    1000 non-null   int64  \n",
      " 10  Latte Price      1000 non-null   float64\n",
      "dtypes: float64(2), int64(3), object(6)\n",
      "memory usage: 86.1+ KB\n"
     ]
    }
   ],
   "source": [
    "# check for data info\n",
    "df.info()\n",
    "#our data types checks out"
   ]
  },
  {
   "cell_type": "code",
   "execution_count": 14,
   "id": "fadd613c",
   "metadata": {
    "colab": {
     "base_uri": "https://localhost:8080/"
    },
    "executionInfo": {
     "elapsed": 27,
     "status": "ok",
     "timestamp": 1709836775021,
     "user": {
      "displayName": "Priya Mohan",
      "userId": "10194897099303360694"
     },
     "user_tz": 300
    },
    "id": "fadd613c",
    "outputId": "e18c28b2-41fb-4c66-ee2f-572ef4623d2d"
   },
   "outputs": [
    {
     "data": {
      "text/plain": [
       "(1000, 11)"
      ]
     },
     "execution_count": 14,
     "metadata": {},
     "output_type": "execute_result"
    }
   ],
   "source": [
    "#check the number of records and features i.e. rows and columns\n",
    "df.shape"
   ]
  },
  {
   "cell_type": "code",
   "execution_count": 15,
   "id": "38f41ea9",
   "metadata": {
    "colab": {
     "base_uri": "https://localhost:8080/"
    },
    "executionInfo": {
     "elapsed": 26,
     "status": "ok",
     "timestamp": 1709836775021,
     "user": {
      "displayName": "Priya Mohan",
      "userId": "10194897099303360694"
     },
     "user_tz": 300
    },
    "id": "38f41ea9",
    "outputId": "10beb0e0-9e18-4297-a7d0-1203385f10e3"
   },
   "outputs": [
    {
     "data": {
      "text/plain": [
       "(1705, 13)"
      ]
     },
     "execution_count": 15,
     "metadata": {},
     "output_type": "execute_result"
    }
   ],
   "source": [
    "population.shape"
   ]
  },
  {
   "cell_type": "code",
   "execution_count": 17,
   "id": "5590d579",
   "metadata": {
    "colab": {
     "base_uri": "https://localhost:8080/",
     "height": 300
    },
    "executionInfo": {
     "elapsed": 23,
     "status": "ok",
     "timestamp": 1709836775021,
     "user": {
      "displayName": "Priya Mohan",
      "userId": "10194897099303360694"
     },
     "user_tz": 300
    },
    "id": "5590d579",
    "outputId": "670ef3c9-3bc2-4335-bb23-9ab8b7cc399f"
   },
   "outputs": [
    {
     "data": {
      "text/html": [
       "<div>\n",
       "<style scoped>\n",
       "    .dataframe tbody tr th:only-of-type {\n",
       "        vertical-align: middle;\n",
       "    }\n",
       "\n",
       "    .dataframe tbody tr th {\n",
       "        vertical-align: top;\n",
       "    }\n",
       "\n",
       "    .dataframe thead th {\n",
       "        text-align: right;\n",
       "    }\n",
       "</style>\n",
       "<table border=\"1\" class=\"dataframe\">\n",
       "  <thead>\n",
       "    <tr style=\"text-align: right;\">\n",
       "      <th></th>\n",
       "      <th>ID no.</th>\n",
       "      <th>Zip Code</th>\n",
       "      <th>Rating</th>\n",
       "      <th>Median Salary</th>\n",
       "      <th>Latte Price</th>\n",
       "    </tr>\n",
       "  </thead>\n",
       "  <tbody>\n",
       "    <tr>\n",
       "      <th>count</th>\n",
       "      <td>1000.000000</td>\n",
       "      <td>1000.000000</td>\n",
       "      <td>1000.000000</td>\n",
       "      <td>1000.000000</td>\n",
       "      <td>1000.000000</td>\n",
       "    </tr>\n",
       "    <tr>\n",
       "      <th>mean</th>\n",
       "      <td>500.500000</td>\n",
       "      <td>92976.163000</td>\n",
       "      <td>3.784600</td>\n",
       "      <td>81182.842000</td>\n",
       "      <td>5.061491</td>\n",
       "    </tr>\n",
       "    <tr>\n",
       "      <th>std</th>\n",
       "      <td>288.819436</td>\n",
       "      <td>1706.943177</td>\n",
       "      <td>1.150717</td>\n",
       "      <td>5142.670356</td>\n",
       "      <td>0.352002</td>\n",
       "    </tr>\n",
       "    <tr>\n",
       "      <th>min</th>\n",
       "      <td>1.000000</td>\n",
       "      <td>90005.000000</td>\n",
       "      <td>1.000000</td>\n",
       "      <td>72001.000000</td>\n",
       "      <td>3.090000</td>\n",
       "    </tr>\n",
       "    <tr>\n",
       "      <th>25%</th>\n",
       "      <td>250.750000</td>\n",
       "      <td>91751.750000</td>\n",
       "      <td>3.200000</td>\n",
       "      <td>76776.000000</td>\n",
       "      <td>4.830175</td>\n",
       "    </tr>\n",
       "    <tr>\n",
       "      <th>50%</th>\n",
       "      <td>500.500000</td>\n",
       "      <td>92883.000000</td>\n",
       "      <td>4.240000</td>\n",
       "      <td>81113.000000</td>\n",
       "      <td>5.062450</td>\n",
       "    </tr>\n",
       "    <tr>\n",
       "      <th>75%</th>\n",
       "      <td>750.250000</td>\n",
       "      <td>94257.000000</td>\n",
       "      <td>4.580000</td>\n",
       "      <td>85684.000000</td>\n",
       "      <td>5.310025</td>\n",
       "    </tr>\n",
       "    <tr>\n",
       "      <th>max</th>\n",
       "      <td>1000.000000</td>\n",
       "      <td>96154.000000</td>\n",
       "      <td>5.000000</td>\n",
       "      <td>89978.000000</td>\n",
       "      <td>6.480000</td>\n",
       "    </tr>\n",
       "  </tbody>\n",
       "</table>\n",
       "</div>"
      ],
      "text/plain": [
       "            ID no.      Zip Code       Rating  Median Salary  Latte Price\n",
       "count  1000.000000   1000.000000  1000.000000    1000.000000  1000.000000\n",
       "mean    500.500000  92976.163000     3.784600   81182.842000     5.061491\n",
       "std     288.819436   1706.943177     1.150717    5142.670356     0.352002\n",
       "min       1.000000  90005.000000     1.000000   72001.000000     3.090000\n",
       "25%     250.750000  91751.750000     3.200000   76776.000000     4.830175\n",
       "50%     500.500000  92883.000000     4.240000   81113.000000     5.062450\n",
       "75%     750.250000  94257.000000     4.580000   85684.000000     5.310025\n",
       "max    1000.000000  96154.000000     5.000000   89978.000000     6.480000"
      ]
     },
     "execution_count": 17,
     "metadata": {},
     "output_type": "execute_result"
    }
   ],
   "source": [
    "# get basic stats about the data from the coffee shop\n",
    "df.describe()\n",
    "#see avergae latte price and salary"
   ]
  },
  {
   "cell_type": "code",
   "execution_count": 18,
   "id": "2cdde9c6",
   "metadata": {
    "colab": {
     "base_uri": "https://localhost:8080/",
     "height": 583
    },
    "executionInfo": {
     "elapsed": 452,
     "status": "ok",
     "timestamp": 1709836775451,
     "user": {
      "displayName": "Priya Mohan",
      "userId": "10194897099303360694"
     },
     "user_tz": 300
    },
    "id": "2cdde9c6",
    "outputId": "f45f5b65-9abf-4995-f29f-7f4be0123a27"
   },
   "outputs": [
    {
     "data": {
      "image/png": "[encoded data removed]",
      "text/plain": [
       "<Figure size 640x480 with 1 Axes>"
      ]
     },
     "metadata": {},
     "output_type": "display_data"
    }
   ],
   "source": [
    "#plot the coffee shop across top 5 cities based on occurences and creates a bar plot\n",
    "ax=df['City'].value_counts().head(5).plot(kind='bar')\n",
    "ax.set_title('Top 5 cities with most cofee shops')\n",
    "plt.show()"
   ]
  },
  {
   "cell_type": "code",
   "execution_count": 19,
   "id": "57d1c1d5",
   "metadata": {
    "colab": {
     "base_uri": "https://localhost:8080/",
     "height": 642
    },
    "executionInfo": {
     "elapsed": 319,
     "status": "ok",
     "timestamp": 1709836775759,
     "user": {
      "displayName": "Priya Mohan",
      "userId": "10194897099303360694"
     },
     "user_tz": 300
    },
    "id": "57d1c1d5",
    "outputId": "484c78f7-92d4-4ecb-ed54-9a88dee76369"
   },
   "outputs": [
    {
     "data": {
      "image/png": "[encoded data removed]",
      "text/plain": [
       "<Figure size 640x480 with 1 Axes>"
      ]
     },
     "metadata": {},
     "output_type": "display_data"
    }
   ],
   "source": [
    "ax=df['Business Name'].value_counts().head(10).plot(kind='bar')\n",
    "ax.set_title('Top 10 most famous brands')\n",
    "plt.show()"
   ]
  },
  {
   "cell_type": "markdown",
   "id": "22ea26fe",
   "metadata": {
    "id": "22ea26fe"
   },
   "source": [
    "## Data Preprocessing"
   ]
  },
  {
   "cell_type": "code",
   "execution_count": 20,
   "id": "f9ac6d7d",
   "metadata": {
    "colab": {
     "base_uri": "https://localhost:8080/"
    },
    "executionInfo": {
     "elapsed": 358,
     "status": "ok",
     "timestamp": 1709836776106,
     "user": {
      "displayName": "Priya Mohan",
      "userId": "10194897099303360694"
     },
     "user_tz": 300
    },
    "id": "f9ac6d7d",
    "outputId": "bcca8809-1e3a-42e1-ce34-eb157bb36fbb"
   },
   "outputs": [
    {
     "data": {
      "text/plain": [
       "ID no.             0\n",
       "Business Name      0\n",
       "Street address     0\n",
       "City               0\n",
       "State              0\n",
       "Zip Code           0\n",
       "Phone              0\n",
       "Rating             0\n",
       "Gender majority    0\n",
       "Median Salary      0\n",
       "Latte Price        0\n",
       "dtype: int64"
      ]
     },
     "execution_count": 20,
     "metadata": {},
     "output_type": "execute_result"
    }
   ],
   "source": [
    "df.isna().sum() #check the null values in each column of the  dataframe\n",
    "# no null values\n",
    "# if we have null values we would impute it. If we have numberical replace mean. Missing values - replace it with the mode (most occuring values)"
   ]
  },
  {
   "cell_type": "code",
   "execution_count": 21,
   "id": "b119ace2",
   "metadata": {
    "executionInfo": {
     "elapsed": 14,
     "status": "ok",
     "timestamp": 1709836776106,
     "user": {
      "displayName": "Priya Mohan",
      "userId": "10194897099303360694"
     },
     "user_tz": 300
    },
    "id": "b119ace2"
   },
   "outputs": [],
   "source": [
    "#converting zipcode to object data (str) - We need to join the zip code with the population data. Converting the coffee shop data. In order to store it into alphanumerical value, it should be string.\n",
    "df['Zip Code']=df['Zip Code'].astype(str)"
   ]
  },
  {
   "cell_type": "code",
   "execution_count": 22,
   "id": "ce458280",
   "metadata": {
    "executionInfo": {
     "elapsed": 14,
     "status": "ok",
     "timestamp": 1709836776106,
     "user": {
      "displayName": "Priya Mohan",
      "userId": "10194897099303360694"
     },
     "user_tz": 300
    },
    "id": "ce458280"
   },
   "outputs": [],
   "source": [
    "#extract zip code from population\n",
    "# Find all of the zipcode that has a 5 digit pattern. Getting the last 5 digits from the population zip code. Creating a new column called zip code\n",
    "\n",
    "def find_zip_code(geocode):\n",
    "    pattern = r'\\d{5}$'\n",
    "\n",
    "    match = re.search(pattern, geocode)\n",
    "\n",
    "    if match:\n",
    "        zip_code = match.group(0)\n",
    "    return zip_code\n"
   ]
  },
  {
   "cell_type": "code",
   "execution_count": 24,
   "id": "38881b0b",
   "metadata": {
    "executionInfo": {
     "elapsed": 14,
     "status": "ok",
     "timestamp": 1709836776106,
     "user": {
      "displayName": "Priya Mohan",
      "userId": "10194897099303360694"
     },
     "user_tz": 300
    },
    "id": "38881b0b"
   },
   "outputs": [],
   "source": [
    "# The actual coversion is below. The above is the function\n",
    "#extracts the last 5 digits of the Geograhy column\n",
    "\n",
    "population['Zip Code']=population['Geography'].apply(find_zip_code)"
   ]
  },
  {
   "cell_type": "code",
   "execution_count": 25,
   "id": "1b22bb57",
   "metadata": {
    "executionInfo": {
     "elapsed": 14,
     "status": "ok",
     "timestamp": 1709836776107,
     "user": {
      "displayName": "Priya Mohan",
      "userId": "10194897099303360694"
     },
     "user_tz": 300
    },
    "id": "1b22bb57"
   },
   "outputs": [],
   "source": [
    "cafe_data=df.copy()\n",
    "# merging the population via zip code as population is an important feature to determing the price / locations\n",
    "df=pd.merge(cafe_data,population)\n",
    "#notice that the data size is reduced afer a join"
   ]
  },
  {
   "cell_type": "code",
   "execution_count": 26,
   "id": "1102897f",
   "metadata": {
    "executionInfo": {
     "elapsed": 14,
     "status": "ok",
     "timestamp": 1709836776107,
     "user": {
      "displayName": "Priya Mohan",
      "userId": "10194897099303360694"
     },
     "user_tz": 300
    },
    "id": "1102897f"
   },
   "outputs": [],
   "source": [
    "#keeping only Total from population. In the pop dataset, keeping total population column and other columns.\n",
    "columns=cafe_data.columns.values.tolist()+['Total']\n",
    "df=df[columns]\n",
    "#rename Total to Population\n",
    "df=df.rename(columns={\"Total\":\"Population\"})"
   ]
  },
  {
   "cell_type": "code",
   "execution_count": 27,
   "id": "4a796f18",
   "metadata": {},
   "outputs": [
    {
     "data": {
      "text/html": [
       "<div>\n",
       "<style scoped>\n",
       "    .dataframe tbody tr th:only-of-type {\n",
       "        vertical-align: middle;\n",
       "    }\n",
       "\n",
       "    .dataframe tbody tr th {\n",
       "        vertical-align: top;\n",
       "    }\n",
       "\n",
       "    .dataframe thead th {\n",
       "        text-align: right;\n",
       "    }\n",
       "</style>\n",
       "<table border=\"1\" class=\"dataframe\">\n",
       "  <thead>\n",
       "    <tr style=\"text-align: right;\">\n",
       "      <th></th>\n",
       "      <th>ID no.</th>\n",
       "      <th>Business Name</th>\n",
       "      <th>Street address</th>\n",
       "      <th>City</th>\n",
       "      <th>State</th>\n",
       "      <th>Zip Code</th>\n",
       "      <th>Phone</th>\n",
       "      <th>Rating</th>\n",
       "      <th>Gender majority</th>\n",
       "      <th>Median Salary</th>\n",
       "      <th>Latte Price</th>\n",
       "      <th>Population</th>\n",
       "    </tr>\n",
       "  </thead>\n",
       "  <tbody>\n",
       "    <tr>\n",
       "      <th>0</th>\n",
       "      <td>2</td>\n",
       "      <td>Bean Bliss</td>\n",
       "      <td>6650 Clarendon Crossing</td>\n",
       "      <td>Stockton</td>\n",
       "      <td>California</td>\n",
       "      <td>95210</td>\n",
       "      <td>209-701-1665</td>\n",
       "      <td>5.00</td>\n",
       "      <td>Female</td>\n",
       "      <td>87117</td>\n",
       "      <td>5.35000</td>\n",
       "      <td>11180</td>\n",
       "    </tr>\n",
       "    <tr>\n",
       "      <th>1</th>\n",
       "      <td>316</td>\n",
       "      <td>Caffeine Castle</td>\n",
       "      <td>72 Oak Crossing</td>\n",
       "      <td>Stockton</td>\n",
       "      <td>California</td>\n",
       "      <td>95210</td>\n",
       "      <td>209-149-9942</td>\n",
       "      <td>4.75</td>\n",
       "      <td>Male</td>\n",
       "      <td>87117</td>\n",
       "      <td>5.44385</td>\n",
       "      <td>11180</td>\n",
       "    </tr>\n",
       "    <tr>\n",
       "      <th>2</th>\n",
       "      <td>725</td>\n",
       "      <td>Frothy Fusion</td>\n",
       "      <td>9266 Susan Point</td>\n",
       "      <td>Stockton</td>\n",
       "      <td>California</td>\n",
       "      <td>95210</td>\n",
       "      <td>209-877-9648</td>\n",
       "      <td>4.19</td>\n",
       "      <td>Female</td>\n",
       "      <td>87117</td>\n",
       "      <td>5.09785</td>\n",
       "      <td>11180</td>\n",
       "    </tr>\n",
       "    <tr>\n",
       "      <th>3</th>\n",
       "      <td>908</td>\n",
       "      <td>Urban Brewtropolis</td>\n",
       "      <td>92 Hoepker Parkway</td>\n",
       "      <td>Stockton</td>\n",
       "      <td>California</td>\n",
       "      <td>95210</td>\n",
       "      <td>209-651-1370</td>\n",
       "      <td>4.50</td>\n",
       "      <td>Male</td>\n",
       "      <td>87117</td>\n",
       "      <td>5.53185</td>\n",
       "      <td>11180</td>\n",
       "    </tr>\n",
       "    <tr>\n",
       "      <th>4</th>\n",
       "      <td>6</td>\n",
       "      <td>Espresso Elegance</td>\n",
       "      <td>8427 Atwood Road</td>\n",
       "      <td>Visalia</td>\n",
       "      <td>California</td>\n",
       "      <td>93291</td>\n",
       "      <td>559-929-4731</td>\n",
       "      <td>1.20</td>\n",
       "      <td>Female</td>\n",
       "      <td>78753</td>\n",
       "      <td>5.31765</td>\n",
       "      <td>15310</td>\n",
       "    </tr>\n",
       "    <tr>\n",
       "      <th>...</th>\n",
       "      <td>...</td>\n",
       "      <td>...</td>\n",
       "      <td>...</td>\n",
       "      <td>...</td>\n",
       "      <td>...</td>\n",
       "      <td>...</td>\n",
       "      <td>...</td>\n",
       "      <td>...</td>\n",
       "      <td>...</td>\n",
       "      <td>...</td>\n",
       "      <td>...</td>\n",
       "      <td>...</td>\n",
       "    </tr>\n",
       "    <tr>\n",
       "      <th>407</th>\n",
       "      <td>659</td>\n",
       "      <td>The Roast Refinery</td>\n",
       "      <td>26967 Stone Corner Place</td>\n",
       "      <td>San Francisco</td>\n",
       "      <td>California</td>\n",
       "      <td>94121</td>\n",
       "      <td>858-344-2510</td>\n",
       "      <td>5.00</td>\n",
       "      <td>Female</td>\n",
       "      <td>80124</td>\n",
       "      <td>4.72020</td>\n",
       "      <td>17295</td>\n",
       "    </tr>\n",
       "    <tr>\n",
       "      <th>408</th>\n",
       "      <td>764</td>\n",
       "      <td>The Roast Refinery</td>\n",
       "      <td>684 Rockefeller Pass</td>\n",
       "      <td>San Francisco</td>\n",
       "      <td>California</td>\n",
       "      <td>94121</td>\n",
       "      <td>415-398-5800</td>\n",
       "      <td>4.15</td>\n",
       "      <td>Male</td>\n",
       "      <td>80124</td>\n",
       "      <td>4.71220</td>\n",
       "      <td>17295</td>\n",
       "    </tr>\n",
       "    <tr>\n",
       "      <th>409</th>\n",
       "      <td>664</td>\n",
       "      <td>Java Joyhouse</td>\n",
       "      <td>9681 Butterfield Alley</td>\n",
       "      <td>Inglewood</td>\n",
       "      <td>California</td>\n",
       "      <td>90305</td>\n",
       "      <td>310-377-5635</td>\n",
       "      <td>4.69</td>\n",
       "      <td>Male</td>\n",
       "      <td>76776</td>\n",
       "      <td>5.01280</td>\n",
       "      <td>5933</td>\n",
       "    </tr>\n",
       "    <tr>\n",
       "      <th>410</th>\n",
       "      <td>804</td>\n",
       "      <td>Steamy Moments</td>\n",
       "      <td>9602 Mallory Street</td>\n",
       "      <td>Inglewood</td>\n",
       "      <td>California</td>\n",
       "      <td>90305</td>\n",
       "      <td>310-846-1674</td>\n",
       "      <td>4.50</td>\n",
       "      <td>Female</td>\n",
       "      <td>76776</td>\n",
       "      <td>4.78480</td>\n",
       "      <td>5933</td>\n",
       "    </tr>\n",
       "    <tr>\n",
       "      <th>411</th>\n",
       "      <td>926</td>\n",
       "      <td>Mugful Magic</td>\n",
       "      <td>3640 5th Point</td>\n",
       "      <td>Los Angeles</td>\n",
       "      <td>California</td>\n",
       "      <td>90025</td>\n",
       "      <td>213-532-9955</td>\n",
       "      <td>4.50</td>\n",
       "      <td>Female</td>\n",
       "      <td>85001</td>\n",
       "      <td>5.37405</td>\n",
       "      <td>21228</td>\n",
       "    </tr>\n",
       "  </tbody>\n",
       "</table>\n",
       "<p>412 rows × 12 columns</p>\n",
       "</div>"
      ],
      "text/plain": [
       "     ID no.        Business Name            Street address           City  \\\n",
       "0         2           Bean Bliss   6650 Clarendon Crossing       Stockton   \n",
       "1       316      Caffeine Castle           72 Oak Crossing       Stockton   \n",
       "2       725        Frothy Fusion          9266 Susan Point       Stockton   \n",
       "3       908   Urban Brewtropolis        92 Hoepker Parkway       Stockton   \n",
       "4         6    Espresso Elegance          8427 Atwood Road        Visalia   \n",
       "..      ...                  ...                       ...            ...   \n",
       "407     659   The Roast Refinery  26967 Stone Corner Place  San Francisco   \n",
       "408     764   The Roast Refinery      684 Rockefeller Pass  San Francisco   \n",
       "409     664        Java Joyhouse    9681 Butterfield Alley      Inglewood   \n",
       "410     804       Steamy Moments       9602 Mallory Street      Inglewood   \n",
       "411     926         Mugful Magic            3640 5th Point    Los Angeles   \n",
       "\n",
       "          State Zip Code         Phone  Rating Gender majority  Median Salary  \\\n",
       "0    California    95210  209-701-1665    5.00          Female          87117   \n",
       "1    California    95210  209-149-9942    4.75            Male          87117   \n",
       "2    California    95210  209-877-9648    4.19          Female          87117   \n",
       "3    California    95210  209-651-1370    4.50            Male          87117   \n",
       "4    California    93291  559-929-4731    1.20          Female          78753   \n",
       "..          ...      ...           ...     ...             ...            ...   \n",
       "407  California    94121  858-344-2510    5.00          Female          80124   \n",
       "408  California    94121  415-398-5800    4.15            Male          80124   \n",
       "409  California    90305  310-377-5635    4.69            Male          76776   \n",
       "410  California    90305  310-846-1674    4.50          Female          76776   \n",
       "411  California    90025  213-532-9955    4.50          Female          85001   \n",
       "\n",
       "     Latte Price  Population  \n",
       "0        5.35000       11180  \n",
       "1        5.44385       11180  \n",
       "2        5.09785       11180  \n",
       "3        5.53185       11180  \n",
       "4        5.31765       15310  \n",
       "..           ...         ...  \n",
       "407      4.72020       17295  \n",
       "408      4.71220       17295  \n",
       "409      5.01280        5933  \n",
       "410      4.78480        5933  \n",
       "411      5.37405       21228  \n",
       "\n",
       "[412 rows x 12 columns]"
      ]
     },
     "execution_count": 27,
     "metadata": {},
     "output_type": "execute_result"
    }
   ],
   "source": [
    "df"
   ]
  },
  {
   "cell_type": "code",
   "execution_count": 28,
   "id": "9270e1ca",
   "metadata": {
    "colab": {
     "base_uri": "https://localhost:8080/"
    },
    "executionInfo": {
     "elapsed": 14,
     "status": "ok",
     "timestamp": 1709836776107,
     "user": {
      "displayName": "Priya Mohan",
      "userId": "10194897099303360694"
     },
     "user_tz": 300
    },
    "id": "9270e1ca",
    "outputId": "999db953-db2b-42b7-de5b-4a413050f02c",
    "scrolled": true
   },
   "outputs": [],
   "source": [
    "#keeping only relevant features\n",
    "df= df[['Zip Code','Rating','Median Salary','Latte Price','Population']]\n",
    "#df.shape\n"
   ]
  },
  {
   "cell_type": "code",
   "execution_count": 29,
   "id": "a9ed9e13",
   "metadata": {},
   "outputs": [
    {
     "data": {
      "text/plain": [
       "Index(['Zip Code', 'Rating', 'Median Salary', 'Latte Price', 'Population'], dtype='object')"
      ]
     },
     "execution_count": 29,
     "metadata": {},
     "output_type": "execute_result"
    }
   ],
   "source": [
    "df.columns    "
   ]
  },
  {
   "cell_type": "code",
   "execution_count": 32,
   "id": "d804d8c7",
   "metadata": {},
   "outputs": [
    {
     "name": "stdout",
     "output_type": "stream",
     "text": [
      "    Zip Code  Rating  Median Salary  Latte Price  Population  \\\n",
      "0      95210    5.00          87117      5.35000       11180   \n",
      "1      95210    4.75          87117      5.44385       11180   \n",
      "2      95210    4.19          87117      5.09785       11180   \n",
      "3      95210    4.50          87117      5.53185       11180   \n",
      "4      93291    1.20          78753      5.31765       15310   \n",
      "..       ...     ...            ...          ...         ...   \n",
      "407    94121    5.00          80124      4.72020       17295   \n",
      "408    94121    4.15          80124      4.71220       17295   \n",
      "409    90305    4.69          76776      5.01280        5933   \n",
      "410    90305    4.50          76776      4.78480        5933   \n",
      "411    90025    4.50          85001      5.37405       21228   \n",
      "\n",
      "     CoffeeShopCount_x  CoffeeShopCount_y  CoffeeShopCount  \n",
      "0                    4                  4                4  \n",
      "1                    4                  4                4  \n",
      "2                    4                  4                4  \n",
      "3                    4                  4                4  \n",
      "4                    7                  7                7  \n",
      "..                 ...                ...              ...  \n",
      "407                  2                  2                2  \n",
      "408                  2                  2                2  \n",
      "409                  2                  2                2  \n",
      "410                  2                  2                2  \n",
      "411                  1                  1                1  \n",
      "\n",
      "[412 rows x 8 columns]\n"
     ]
    }
   ],
   "source": [
    "# Calculate the total number of coffee shops for each zip code\n",
    "coffee_shop_counts = df['Zip Code'].value_counts().reset_index()\n",
    "coffee_shop_counts.columns = ['Zip Code', 'CoffeeShopCount']\n",
    "\n",
    "# Ensure 'Zip Code' is of type string in both DataFrames\n",
    "df['Zip Code'] = df['Zip Code'].astype(str)\n",
    "coffee_shop_counts['Zip Code'] = coffee_shop_counts['Zip Code'].astype(str)\n",
    "\n",
    "# Merge the counts back into the original DataFrame\n",
    "df = df.merge(coffee_shop_counts, on='Zip Code', how='left')\n",
    "\n",
    "# Print the updated DataFrame\n",
    "print(df)\n",
    "\n",
    "# Criteria:\n",
    "# a. High population\n",
    "# b. Low total number of coffee shops\n",
    "# c. Low ratings\n",
    "# d. High median salary\n",
    "\n",
    "# Sorting the DataFrame based on the criteria\n",
    "sorted_df = df.sort_values(by=['Population', 'CoffeeShopCount', 'Rating', 'Median Salary'],\n",
    "                           ascending=[False, True, True, False]).reset_index(drop=True)\n"
   ]
  },
  {
   "cell_type": "code",
   "execution_count": 34,
   "id": "9faa38fa",
   "metadata": {},
   "outputs": [
    {
     "data": {
      "text/html": [
       "<div>\n",
       "<style scoped>\n",
       "    .dataframe tbody tr th:only-of-type {\n",
       "        vertical-align: middle;\n",
       "    }\n",
       "\n",
       "    .dataframe tbody tr th {\n",
       "        vertical-align: top;\n",
       "    }\n",
       "\n",
       "    .dataframe thead th {\n",
       "        text-align: right;\n",
       "    }\n",
       "</style>\n",
       "<table border=\"1\" class=\"dataframe\">\n",
       "  <thead>\n",
       "    <tr style=\"text-align: right;\">\n",
       "      <th></th>\n",
       "      <th>Zip Code</th>\n",
       "      <th>Rating</th>\n",
       "      <th>Median Salary</th>\n",
       "      <th>Latte Price</th>\n",
       "      <th>Population</th>\n",
       "      <th>CoffeeShopCount_x</th>\n",
       "      <th>CoffeeShopCount_y</th>\n",
       "      <th>CoffeeShopCount</th>\n",
       "    </tr>\n",
       "  </thead>\n",
       "  <tbody>\n",
       "    <tr>\n",
       "      <th>0</th>\n",
       "      <td>94110</td>\n",
       "      <td>2.22</td>\n",
       "      <td>74020</td>\n",
       "      <td>5.04500</td>\n",
       "      <td>27128</td>\n",
       "      <td>5</td>\n",
       "      <td>5</td>\n",
       "      <td>5</td>\n",
       "    </tr>\n",
       "    <tr>\n",
       "      <th>1</th>\n",
       "      <td>94110</td>\n",
       "      <td>3.50</td>\n",
       "      <td>74020</td>\n",
       "      <td>5.04700</td>\n",
       "      <td>27128</td>\n",
       "      <td>5</td>\n",
       "      <td>5</td>\n",
       "      <td>5</td>\n",
       "    </tr>\n",
       "    <tr>\n",
       "      <th>2</th>\n",
       "      <td>94110</td>\n",
       "      <td>4.40</td>\n",
       "      <td>74020</td>\n",
       "      <td>5.05900</td>\n",
       "      <td>27128</td>\n",
       "      <td>5</td>\n",
       "      <td>5</td>\n",
       "      <td>5</td>\n",
       "    </tr>\n",
       "    <tr>\n",
       "      <th>3</th>\n",
       "      <td>94110</td>\n",
       "      <td>4.50</td>\n",
       "      <td>74020</td>\n",
       "      <td>4.77900</td>\n",
       "      <td>27128</td>\n",
       "      <td>5</td>\n",
       "      <td>5</td>\n",
       "      <td>5</td>\n",
       "    </tr>\n",
       "    <tr>\n",
       "      <th>4</th>\n",
       "      <td>94110</td>\n",
       "      <td>4.70</td>\n",
       "      <td>74020</td>\n",
       "      <td>4.58100</td>\n",
       "      <td>27128</td>\n",
       "      <td>5</td>\n",
       "      <td>5</td>\n",
       "      <td>5</td>\n",
       "    </tr>\n",
       "    <tr>\n",
       "      <th>5</th>\n",
       "      <td>90805</td>\n",
       "      <td>3.00</td>\n",
       "      <td>88140</td>\n",
       "      <td>5.47900</td>\n",
       "      <td>26056</td>\n",
       "      <td>4</td>\n",
       "      <td>4</td>\n",
       "      <td>4</td>\n",
       "    </tr>\n",
       "    <tr>\n",
       "      <th>6</th>\n",
       "      <td>90805</td>\n",
       "      <td>3.89</td>\n",
       "      <td>88140</td>\n",
       "      <td>5.31900</td>\n",
       "      <td>26056</td>\n",
       "      <td>4</td>\n",
       "      <td>4</td>\n",
       "      <td>4</td>\n",
       "    </tr>\n",
       "    <tr>\n",
       "      <th>7</th>\n",
       "      <td>90805</td>\n",
       "      <td>4.31</td>\n",
       "      <td>88140</td>\n",
       "      <td>5.02100</td>\n",
       "      <td>26056</td>\n",
       "      <td>4</td>\n",
       "      <td>4</td>\n",
       "      <td>4</td>\n",
       "    </tr>\n",
       "    <tr>\n",
       "      <th>8</th>\n",
       "      <td>90805</td>\n",
       "      <td>4.37</td>\n",
       "      <td>88140</td>\n",
       "      <td>5.20700</td>\n",
       "      <td>26056</td>\n",
       "      <td>4</td>\n",
       "      <td>4</td>\n",
       "      <td>4</td>\n",
       "    </tr>\n",
       "    <tr>\n",
       "      <th>9</th>\n",
       "      <td>95823</td>\n",
       "      <td>4.30</td>\n",
       "      <td>73165</td>\n",
       "      <td>4.96825</td>\n",
       "      <td>22470</td>\n",
       "      <td>3</td>\n",
       "      <td>3</td>\n",
       "      <td>3</td>\n",
       "    </tr>\n",
       "    <tr>\n",
       "      <th>10</th>\n",
       "      <td>95823</td>\n",
       "      <td>4.82</td>\n",
       "      <td>73165</td>\n",
       "      <td>4.87225</td>\n",
       "      <td>22470</td>\n",
       "      <td>3</td>\n",
       "      <td>3</td>\n",
       "      <td>3</td>\n",
       "    </tr>\n",
       "    <tr>\n",
       "      <th>11</th>\n",
       "      <td>95823</td>\n",
       "      <td>4.94</td>\n",
       "      <td>73165</td>\n",
       "      <td>4.47225</td>\n",
       "      <td>22470</td>\n",
       "      <td>3</td>\n",
       "      <td>3</td>\n",
       "      <td>3</td>\n",
       "    </tr>\n",
       "    <tr>\n",
       "      <th>12</th>\n",
       "      <td>94544</td>\n",
       "      <td>3.98</td>\n",
       "      <td>72092</td>\n",
       "      <td>4.94860</td>\n",
       "      <td>21872</td>\n",
       "      <td>6</td>\n",
       "      <td>6</td>\n",
       "      <td>6</td>\n",
       "    </tr>\n",
       "    <tr>\n",
       "      <th>13</th>\n",
       "      <td>94544</td>\n",
       "      <td>4.12</td>\n",
       "      <td>72092</td>\n",
       "      <td>4.96060</td>\n",
       "      <td>21872</td>\n",
       "      <td>6</td>\n",
       "      <td>6</td>\n",
       "      <td>6</td>\n",
       "    </tr>\n",
       "    <tr>\n",
       "      <th>14</th>\n",
       "      <td>94544</td>\n",
       "      <td>4.17</td>\n",
       "      <td>72092</td>\n",
       "      <td>4.79060</td>\n",
       "      <td>21872</td>\n",
       "      <td>6</td>\n",
       "      <td>6</td>\n",
       "      <td>6</td>\n",
       "    </tr>\n",
       "    <tr>\n",
       "      <th>15</th>\n",
       "      <td>94544</td>\n",
       "      <td>4.24</td>\n",
       "      <td>72092</td>\n",
       "      <td>4.64460</td>\n",
       "      <td>21872</td>\n",
       "      <td>6</td>\n",
       "      <td>6</td>\n",
       "      <td>6</td>\n",
       "    </tr>\n",
       "    <tr>\n",
       "      <th>16</th>\n",
       "      <td>94544</td>\n",
       "      <td>4.24</td>\n",
       "      <td>72092</td>\n",
       "      <td>4.91660</td>\n",
       "      <td>21872</td>\n",
       "      <td>6</td>\n",
       "      <td>6</td>\n",
       "      <td>6</td>\n",
       "    </tr>\n",
       "    <tr>\n",
       "      <th>17</th>\n",
       "      <td>94544</td>\n",
       "      <td>4.86</td>\n",
       "      <td>72092</td>\n",
       "      <td>4.59060</td>\n",
       "      <td>21872</td>\n",
       "      <td>6</td>\n",
       "      <td>6</td>\n",
       "      <td>6</td>\n",
       "    </tr>\n",
       "    <tr>\n",
       "      <th>18</th>\n",
       "      <td>90025</td>\n",
       "      <td>4.50</td>\n",
       "      <td>85001</td>\n",
       "      <td>5.37405</td>\n",
       "      <td>21228</td>\n",
       "      <td>1</td>\n",
       "      <td>1</td>\n",
       "      <td>1</td>\n",
       "    </tr>\n",
       "  </tbody>\n",
       "</table>\n",
       "</div>"
      ],
      "text/plain": [
       "   Zip Code  Rating  Median Salary  Latte Price  Population  \\\n",
       "0     94110    2.22          74020      5.04500       27128   \n",
       "1     94110    3.50          74020      5.04700       27128   \n",
       "2     94110    4.40          74020      5.05900       27128   \n",
       "3     94110    4.50          74020      4.77900       27128   \n",
       "4     94110    4.70          74020      4.58100       27128   \n",
       "5     90805    3.00          88140      5.47900       26056   \n",
       "6     90805    3.89          88140      5.31900       26056   \n",
       "7     90805    4.31          88140      5.02100       26056   \n",
       "8     90805    4.37          88140      5.20700       26056   \n",
       "9     95823    4.30          73165      4.96825       22470   \n",
       "10    95823    4.82          73165      4.87225       22470   \n",
       "11    95823    4.94          73165      4.47225       22470   \n",
       "12    94544    3.98          72092      4.94860       21872   \n",
       "13    94544    4.12          72092      4.96060       21872   \n",
       "14    94544    4.17          72092      4.79060       21872   \n",
       "15    94544    4.24          72092      4.64460       21872   \n",
       "16    94544    4.24          72092      4.91660       21872   \n",
       "17    94544    4.86          72092      4.59060       21872   \n",
       "18    90025    4.50          85001      5.37405       21228   \n",
       "\n",
       "    CoffeeShopCount_x  CoffeeShopCount_y  CoffeeShopCount  \n",
       "0                   5                  5                5  \n",
       "1                   5                  5                5  \n",
       "2                   5                  5                5  \n",
       "3                   5                  5                5  \n",
       "4                   5                  5                5  \n",
       "5                   4                  4                4  \n",
       "6                   4                  4                4  \n",
       "7                   4                  4                4  \n",
       "8                   4                  4                4  \n",
       "9                   3                  3                3  \n",
       "10                  3                  3                3  \n",
       "11                  3                  3                3  \n",
       "12                  6                  6                6  \n",
       "13                  6                  6                6  \n",
       "14                  6                  6                6  \n",
       "15                  6                  6                6  \n",
       "16                  6                  6                6  \n",
       "17                  6                  6                6  \n",
       "18                  1                  1                1  "
      ]
     },
     "execution_count": 34,
     "metadata": {},
     "output_type": "execute_result"
    }
   ],
   "source": [
    "# Created a list - if length of list 5, if the zip code is already present, it will not add that into the list. \n",
    "# Deduping zip code column and displaying all of the records for the top 5.\n",
    "lst=[]\n",
    "for i in range(len(sorted_df)):\n",
    "    if len(lst)!=5:#check if length of list is <5\n",
    "        if (sorted_df['Zip Code'][i]) not in lst:#check if current Zip Code is in the list\n",
    "            lst.append(sorted_df['Zip Code'][i])\n",
    "            \n",
    "# Filter 'sorted_df' to include only rows where 'Zip Code' is in 'lst'\n",
    "top_5_zip_codes_df = sorted_df[sorted_df['Zip Code'].isin(lst)]\n",
    "\n",
    "top_5_zip_codes_df"
   ]
  },
  {
   "cell_type": "code",
   "execution_count": 36,
   "id": "29329ce4",
   "metadata": {},
   "outputs": [],
   "source": [
    "#Create a feature matrix for machine learning model\n",
    "X = df.drop(['Latte Price', 'Zip Code'], axis=1)  # Features excluding 'Latte Price' and 'Zip Code'\n",
    "y = df['Latte Price']  # Target variable"
   ]
  },
  {
   "cell_type": "code",
   "execution_count": 40,
   "id": "80681397",
   "metadata": {},
   "outputs": [],
   "source": [
    "#results assigned to X_train,...\n",
    "X_train, X_test, y_train, y_test = train_test_split(X, y, test_size=0.2, random_state=42)#20% of data used for testing"
   ]
  },
  {
   "cell_type": "code",
   "execution_count": 43,
   "id": "239d6741",
   "metadata": {},
   "outputs": [],
   "source": [
    "#feature scaling, ensure that features have mean of 0 and std of 1\n",
    "sc = StandardScaler()#standardize the features from the scikit learng\n",
    "\n",
    "X_train = sc.fit_transform(X_train)\n",
    "X_test=sc.transform(X_test)"
   ]
  },
  {
   "cell_type": "markdown",
   "id": "c128b114",
   "metadata": {},
   "source": [
    "# Model Selection"
   ]
  },
  {
   "cell_type": "code",
   "execution_count": 47,
   "id": "3a70f8ea",
   "metadata": {},
   "outputs": [],
   "source": [
    "#Model Selection\n",
    "#Regression models are used for continuous variables i.e. price-number of latte from 3 zip codes identify\n",
    "#categorical variable will be expensive or cheap\n",
    "models = {\n",
    "    'Linear Regression': LinearRegression(),\n",
    "    'Random Forest': RandomForestRegressor(),\n",
    "    'Gradient Boosting': GradientBoostingRegressor()\n",
    "}\n"
   ]
  },
  {
   "cell_type": "markdown",
   "id": "a9710795",
   "metadata": {},
   "source": [
    "# Hyperparameter tuning"
   ]
  },
  {
   "cell_type": "code",
   "execution_count": 49,
   "id": "85c80511",
   "metadata": {},
   "outputs": [],
   "source": [
    "#Hyperparameter Tuning\n",
    "#specifies the hyperparameters for each model\n",
    "#n_estimators=number of trees\n",
    "#max_depth of each tree in the forest\n",
    "param_grid = {\n",
    "    'Random Forest': {'n_estimators': [50, 100, 200], 'max_depth': [None, 10, 20]},\n",
    "    'Gradient Boosting': {'n_estimators': [50, 100, 200], 'learning_rate': [0.01, 0.1, 0.2], 'max_depth': [3, 5, 10]},\n",
    "}\n"
   ]
  },
  {
   "cell_type": "code",
   "execution_count": 50,
   "id": "db3a1c92",
   "metadata": {},
   "outputs": [],
   "source": [
    "for model_name, model in models.items():\n",
    "    if model_name in param_grid:\n",
    "        # Perform hyperparameter tuning using GridSearchCV\n",
    "        #explores the hyperparameters to optimise the model\n",
    "        grid_search = GridSearchCV(model, param_grid[model_name], cv=5, scoring='neg_mean_squared_error')\n",
    "        grid_search.fit(X, y)\n",
    "\n",
    "        # Set the best hyperparameters to the model\n",
    "        models[model_name] = grid_search.best_estimator_\n"
   ]
  },
  {
   "cell_type": "markdown",
   "id": "1af9650c",
   "metadata": {},
   "source": [
    "# Model Training"
   ]
  },
  {
   "cell_type": "code",
   "execution_count": 51,
   "id": "77649861",
   "metadata": {},
   "outputs": [],
   "source": [
    "#Model Training\n",
    "for model_name, model in models.items():\n",
    "    # Train the model on the training set\n",
    "    model.fit(X_train, y_train)"
   ]
  },
  {
   "cell_type": "code",
   "execution_count": 52,
   "id": "0d643968",
   "metadata": {},
   "outputs": [
    {
     "name": "stdout",
     "output_type": "stream",
     "text": [
      "Linear Regression Metrics:\n",
      "Mean Absolute Error: 0.2179469416812182\n",
      "Mean Squared Error: 0.06760097542831553\n",
      "R-squared: 0.497440616791904\n",
      "\n",
      "Random Forest Metrics:\n",
      "Mean Absolute Error: 0.24145007165484061\n",
      "Mean Squared Error: 0.08697019160299159\n",
      "R-squared: 0.3534459292553067\n",
      "\n",
      "Gradient Boosting Metrics:\n",
      "Mean Absolute Error: 0.22484266824587004\n",
      "Mean Squared Error: 0.07648279864721322\n",
      "R-squared: 0.43141133880632454\n",
      "\n"
     ]
    }
   ],
   "source": [
    "# Model Evaluation\n",
    "for model_name, model in models.items():\n",
    "    # Evaluate the model on the testing set\n",
    "    y_pred = model.predict(X_test)\n",
    "    print(f\"{model_name} Metrics:\")\n",
    "    print(\"Mean Absolute Error:\", mean_absolute_error(y_test, y_pred))\n",
    "    print(\"Mean Squared Error:\", mean_squared_error(y_test, y_pred))\n",
    "    print(\"R-squared:\", r2_score(y_test, y_pred))\n",
    "    print()\n",
    "\n"
   ]
  },
  {
   "cell_type": "markdown",
   "id": "fb2b6967",
   "metadata": {},
   "source": [
    "# Predictions"
   ]
  },
  {
   "cell_type": "code",
   "execution_count": 53,
   "id": "ae165610",
   "metadata": {},
   "outputs": [],
   "source": [
    "#We want this dataframe to be same as the training data so that model can predict the value\n",
    "zip_codes_df= top_5_zip_codes_df.drop(['Zip Code', 'Latte Price'], axis=1)\n",
    "zip_codes_df= sc.transform(zip_codes_df)"
   ]
  },
  {
   "cell_type": "code",
   "execution_count": 54,
   "id": "0a9a4dab",
   "metadata": {},
   "outputs": [
    {
     "name": "stdout",
     "output_type": "stream",
     "text": [
      "Linear Regression Predicted Prices for Top 5 Zip Codes:\n",
      "[15939.57695417 15939.58102142 15939.58388121 15939.58419896\n",
      " 15939.58483447 18975.73927555 18975.74210356 18975.74343812\n",
      " 18975.74362878 15753.09077765 15753.09242997 15753.09281127\n",
      " 15522.00270954 15522.0031544  15522.00331328 15522.0035357\n",
      " 15522.0035357  15522.00550578 18297.93564366]\n",
      "\n",
      "Random Forest Predicted Prices for Top 5 Zip Codes:\n",
      "[5.48750104 5.48750104 5.48750104 5.48750104 5.48750104 5.48750104\n",
      " 5.48750104 5.48750104 5.48750104 5.48750104 5.48750104 5.48750104\n",
      " 5.48750104 5.48750104 5.48750104 5.48750104 5.48750104 5.48750104\n",
      " 5.50701904]\n",
      "\n",
      "Gradient Boosting Predicted Prices for Top 5 Zip Codes:\n",
      "[5.41348343 5.41348343 5.41348343 5.41348343 5.41348343 5.41348343\n",
      " 5.41348343 5.41348343 5.41348343 5.41348343 5.41348343 5.41348343\n",
      " 5.41348343 5.41348343 5.41348343 5.41348343 5.41348343 5.41348343\n",
      " 5.41348343]\n",
      "\n"
     ]
    }
   ],
   "source": [
    "for model_name, model in models.items():\n",
    "    # Predict the prices for lattes in the top 5 zip codes\n",
    "    predicted_prices = model.predict(zip_codes_df)\n",
    "    print(f\"{model_name} Predicted Prices for Top 5 Zip Codes:\")\n",
    "    print(predicted_prices)\n",
    "    print()"
   ]
  },
  {
   "cell_type": "code",
   "execution_count": 55,
   "id": "d137ea16",
   "metadata": {},
   "outputs": [
    {
     "data": {
      "text/html": [
       "<div>\n",
       "<style scoped>\n",
       "    .dataframe tbody tr th:only-of-type {\n",
       "        vertical-align: middle;\n",
       "    }\n",
       "\n",
       "    .dataframe tbody tr th {\n",
       "        vertical-align: top;\n",
       "    }\n",
       "\n",
       "    .dataframe thead th {\n",
       "        text-align: right;\n",
       "    }\n",
       "</style>\n",
       "<table border=\"1\" class=\"dataframe\">\n",
       "  <thead>\n",
       "    <tr style=\"text-align: right;\">\n",
       "      <th></th>\n",
       "      <th>Zip Code</th>\n",
       "      <th>Linear Regression</th>\n",
       "      <th>Random Forest</th>\n",
       "      <th>Gradient Boosting</th>\n",
       "    </tr>\n",
       "  </thead>\n",
       "  <tbody>\n",
       "    <tr>\n",
       "      <th>0</th>\n",
       "      <td>94110</td>\n",
       "      <td>15939.576954</td>\n",
       "      <td>5.487501</td>\n",
       "      <td>5.413483</td>\n",
       "    </tr>\n",
       "    <tr>\n",
       "      <th>1</th>\n",
       "      <td>94110</td>\n",
       "      <td>15939.581021</td>\n",
       "      <td>5.487501</td>\n",
       "      <td>5.413483</td>\n",
       "    </tr>\n",
       "    <tr>\n",
       "      <th>2</th>\n",
       "      <td>94110</td>\n",
       "      <td>15939.583881</td>\n",
       "      <td>5.487501</td>\n",
       "      <td>5.413483</td>\n",
       "    </tr>\n",
       "    <tr>\n",
       "      <th>3</th>\n",
       "      <td>94110</td>\n",
       "      <td>15939.584199</td>\n",
       "      <td>5.487501</td>\n",
       "      <td>5.413483</td>\n",
       "    </tr>\n",
       "    <tr>\n",
       "      <th>4</th>\n",
       "      <td>94110</td>\n",
       "      <td>15939.584834</td>\n",
       "      <td>5.487501</td>\n",
       "      <td>5.413483</td>\n",
       "    </tr>\n",
       "    <tr>\n",
       "      <th>5</th>\n",
       "      <td>90805</td>\n",
       "      <td>18975.739276</td>\n",
       "      <td>5.487501</td>\n",
       "      <td>5.413483</td>\n",
       "    </tr>\n",
       "    <tr>\n",
       "      <th>6</th>\n",
       "      <td>90805</td>\n",
       "      <td>18975.742104</td>\n",
       "      <td>5.487501</td>\n",
       "      <td>5.413483</td>\n",
       "    </tr>\n",
       "    <tr>\n",
       "      <th>7</th>\n",
       "      <td>90805</td>\n",
       "      <td>18975.743438</td>\n",
       "      <td>5.487501</td>\n",
       "      <td>5.413483</td>\n",
       "    </tr>\n",
       "    <tr>\n",
       "      <th>8</th>\n",
       "      <td>90805</td>\n",
       "      <td>18975.743629</td>\n",
       "      <td>5.487501</td>\n",
       "      <td>5.413483</td>\n",
       "    </tr>\n",
       "    <tr>\n",
       "      <th>9</th>\n",
       "      <td>95823</td>\n",
       "      <td>15753.090778</td>\n",
       "      <td>5.487501</td>\n",
       "      <td>5.413483</td>\n",
       "    </tr>\n",
       "    <tr>\n",
       "      <th>10</th>\n",
       "      <td>95823</td>\n",
       "      <td>15753.092430</td>\n",
       "      <td>5.487501</td>\n",
       "      <td>5.413483</td>\n",
       "    </tr>\n",
       "    <tr>\n",
       "      <th>11</th>\n",
       "      <td>95823</td>\n",
       "      <td>15753.092811</td>\n",
       "      <td>5.487501</td>\n",
       "      <td>5.413483</td>\n",
       "    </tr>\n",
       "    <tr>\n",
       "      <th>12</th>\n",
       "      <td>94544</td>\n",
       "      <td>15522.002710</td>\n",
       "      <td>5.487501</td>\n",
       "      <td>5.413483</td>\n",
       "    </tr>\n",
       "    <tr>\n",
       "      <th>13</th>\n",
       "      <td>94544</td>\n",
       "      <td>15522.003154</td>\n",
       "      <td>5.487501</td>\n",
       "      <td>5.413483</td>\n",
       "    </tr>\n",
       "    <tr>\n",
       "      <th>14</th>\n",
       "      <td>94544</td>\n",
       "      <td>15522.003313</td>\n",
       "      <td>5.487501</td>\n",
       "      <td>5.413483</td>\n",
       "    </tr>\n",
       "    <tr>\n",
       "      <th>15</th>\n",
       "      <td>94544</td>\n",
       "      <td>15522.003536</td>\n",
       "      <td>5.487501</td>\n",
       "      <td>5.413483</td>\n",
       "    </tr>\n",
       "    <tr>\n",
       "      <th>16</th>\n",
       "      <td>94544</td>\n",
       "      <td>15522.003536</td>\n",
       "      <td>5.487501</td>\n",
       "      <td>5.413483</td>\n",
       "    </tr>\n",
       "    <tr>\n",
       "      <th>17</th>\n",
       "      <td>94544</td>\n",
       "      <td>15522.005506</td>\n",
       "      <td>5.487501</td>\n",
       "      <td>5.413483</td>\n",
       "    </tr>\n",
       "    <tr>\n",
       "      <th>18</th>\n",
       "      <td>90025</td>\n",
       "      <td>18297.935644</td>\n",
       "      <td>5.507019</td>\n",
       "      <td>5.413483</td>\n",
       "    </tr>\n",
       "  </tbody>\n",
       "</table>\n",
       "</div>"
      ],
      "text/plain": [
       "   Zip Code  Linear Regression  Random Forest  Gradient Boosting\n",
       "0     94110       15939.576954       5.487501           5.413483\n",
       "1     94110       15939.581021       5.487501           5.413483\n",
       "2     94110       15939.583881       5.487501           5.413483\n",
       "3     94110       15939.584199       5.487501           5.413483\n",
       "4     94110       15939.584834       5.487501           5.413483\n",
       "5     90805       18975.739276       5.487501           5.413483\n",
       "6     90805       18975.742104       5.487501           5.413483\n",
       "7     90805       18975.743438       5.487501           5.413483\n",
       "8     90805       18975.743629       5.487501           5.413483\n",
       "9     95823       15753.090778       5.487501           5.413483\n",
       "10    95823       15753.092430       5.487501           5.413483\n",
       "11    95823       15753.092811       5.487501           5.413483\n",
       "12    94544       15522.002710       5.487501           5.413483\n",
       "13    94544       15522.003154       5.487501           5.413483\n",
       "14    94544       15522.003313       5.487501           5.413483\n",
       "15    94544       15522.003536       5.487501           5.413483\n",
       "16    94544       15522.003536       5.487501           5.413483\n",
       "17    94544       15522.005506       5.487501           5.413483\n",
       "18    90025       18297.935644       5.507019           5.413483"
      ]
     },
     "execution_count": 55,
     "metadata": {},
     "output_type": "execute_result"
    }
   ],
   "source": [
    "predictions = {}\n",
    "\n",
    "for model_name, model in models.items():\n",
    "    # Predict the prices for lattes in the top 5 zip codes\n",
    "    predicted_prices = model.predict(zip_codes_df)\n",
    "    predictions[model_name] = predicted_prices\n",
    "\n",
    "# Convert the predictions dictionary to a DataFrame\n",
    "predictions_df = pd.DataFrame(predictions)\n",
    "# Add the zip codes to the predictions DataFrame\n",
    "predictions_df['Zip Code'] = top_5_zip_codes_df['Zip Code'].values\n",
    "\n",
    "# Rearrange the columns to have 'Zip Code' as the first column\n",
    "cols = ['Zip Code'] + [col for col in predictions_df.columns if col != 'Zip Code']\n",
    "predictions_df = predictions_df[cols]\n",
    "\n",
    "predictions_df"
   ]
  },
  {
   "cell_type": "code",
   "execution_count": 58,
   "id": "be5892b9",
   "metadata": {},
   "outputs": [
    {
     "name": "stdout",
     "output_type": "stream",
     "text": [
      "  Zip Code   Highest    Lowest\n",
      "0    90025  5.413483  5.413483\n",
      "1    90805  5.413483  5.413483\n",
      "2    94110  5.413483  5.413483\n",
      "3    94544  5.413483  5.413483\n",
      "4    95823  5.413483  5.413483\n"
     ]
    }
   ],
   "source": [
    "#aggregation functions for highest to minimum\n",
    "agg_df = predictions_df.groupby('Zip Code')['Gradient Boosting'].agg([(\"Highest\", \"max\"), (\"Lowest\", \"min\")]).reset_index()\n",
    "agg_df.columns = ['Zip Code', 'Highest', 'Lowest']#rename the columns\n",
    "print(agg_df)"
   ]
  }
 ],
 "metadata": {
  "colab": {
   "provenance": []
  },
  "kernelspec": {
   "display_name": "Python 3 (ipykernel)",
   "language": "python",
   "name": "python3"
  },
  "language_info": {
   "codemirror_mode": {
    "name": "ipython",
    "version": 3
   },
   "file_extension": ".py",
   "mimetype": "text/x-python",
   "name": "python",
   "nbconvert_exporter": "python",
   "pygments_lexer": "ipython3",
   "version": "3.11.5"
  }
 },
 "nbformat": 4,
 "nbformat_minor": 5
}
